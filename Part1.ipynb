{
 "cells": [
  {
   "cell_type": "markdown",
   "metadata": {},
   "source": [
    "# Background"
   ]
  },
  {
   "cell_type": "markdown",
   "metadata": {},
   "source": [
    "### This capstone project seeks to compare different neighborhoods of New York City and Toronto in order to determine their similarities, or dissimilarities, as multicultural hubs. One area of interest in both of these cities is each of their financial districts. Looking specificially at this area in each of the cities will provide insight into the importance of finance to each city. The second area I will focus on in each city is Chinatown. Both New York and Toronto are multicultural cities, with large populations of minority individuals. I would like to determine the scope of each city's Chinatown to determine the success of Chinese Americans and Chinese Canadians in each city. "
   ]
  },
  {
   "cell_type": "markdown",
   "metadata": {},
   "source": [
    "# Data"
   ]
  },
  {
   "cell_type": "markdown",
   "metadata": {},
   "source": [
    "### This project will rely on Forsquare location data to reach a conclusion about the similarities of these two cities. For analyzing the financial districts, I will use Forsquare to gather data about the ammenities available in the finanancial districts, including restaurants and shops. I may also find it useful to look into the costs of surrounding ammenities to determine the level of affordability within each financial district. For Chinatown, I would like to look at the vastness of each of the area, including the different ammenities within each district. This will help determine how successful Chinese individuals have been at creating success within the city, and therefore, the level of acceptance the city has for multiculturalism. "
   ]
  },
  {
   "cell_type": "code",
   "execution_count": null,
   "metadata": {},
   "outputs": [],
   "source": []
  }
 ],
 "metadata": {
  "kernelspec": {
   "display_name": "Python",
   "language": "python",
   "name": "conda-env-python-py"
  },
  "language_info": {
   "codemirror_mode": {
    "name": "ipython",
    "version": 3
   },
   "file_extension": ".py",
   "mimetype": "text/x-python",
   "name": "python",
   "nbconvert_exporter": "python",
   "pygments_lexer": "ipython3",
   "version": "3.6.11"
  }
 },
 "nbformat": 4,
 "nbformat_minor": 4
}
